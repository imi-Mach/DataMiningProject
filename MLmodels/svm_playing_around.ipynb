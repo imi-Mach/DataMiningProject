{
 "metadata": {
  "language_info": {
   "codemirror_mode": {
    "name": "ipython",
    "version": 3
   },
   "file_extension": ".py",
   "mimetype": "text/x-python",
   "name": "python",
   "nbconvert_exporter": "python",
   "pygments_lexer": "ipython3",
   "version": "3.8.5"
  },
  "orig_nbformat": 2,
  "kernelspec": {
   "name": "python385jvsc74a57bd0c5d8f6e74573bcf85721e6caa81fb1e3080928840b56766cb515e33ff1d22f50",
   "display_name": "Python 3.8.5 64-bit ('anaconda3': virtualenv)",
   "language": "python"
  }
 },
 "nbformat": 4,
 "nbformat_minor": 2,
 "cells": [
  {
   "cell_type": "code",
   "execution_count": 20,
   "metadata": {},
   "outputs": [],
   "source": [
    "import numpy as np\n",
    "import matplotlib.pyplot as plt \n",
    "from sklearn import svm, datasets\n",
    "import sklearn.model_selection as model_selection\n",
    "from sklearn.metrics import accuracy_score\n",
    "from sklearn.metrics import f1_score\n",
    "#plt.plot([1,2,3],[5,5,6])\n",
    "#plt.show()"
   ]
  },
  {
   "cell_type": "code",
   "execution_count": 6,
   "metadata": {},
   "outputs": [
    {
     "output_type": "stream",
     "name": "stdout",
     "text": [
      "['StTestFile1.txt', 'StTestFile2.txt', 'StTestFile3.txt', 'StTestFile4.txt', 'StTestFile5.txt', 'StTestFile6.txt', 'StTestFile7.txt', 'StTestFile8.txt', 'StTestFile9.txt', 'StTestFile10.txt']\n['StTrainFile1.txt', 'StTrainFile2.txt', 'StTrainFile3.txt', 'StTrainFile4.txt', 'StTrainFile5.txt', 'StTrainFile6.txt', 'StTrainFile7.txt', 'StTrainFile8.txt', 'StTrainFile9.txt', 'StTrainFile10.txt']\n"
     ]
    }
   ],
   "source": [
    "# PIE data import\n",
    "PIE_datapath = '/mnt/c/Users/isaac/Desktop/CSE447/final_project/DataMiningProject/data/1_PIE_32x32/'\n",
    "PIE_test_filenames = ['StTestFile'+str(i)+'.txt' for i in range(1,11)]\n",
    "PIE_train_filenames = ['StTrainFile'+str(i)+'.txt' for i in range(1,11)]\n",
    "print(PIE_test_filenames)\n",
    "print(PIE_train_filenames)"
   ]
  },
  {
   "cell_type": "code",
   "execution_count": 3,
   "metadata": {},
   "outputs": [],
   "source": [
    "# Iyer data import\n",
    "iyer_datapath = '/mnt/c/Users/isaac/Desktop/CSE447/final_project/DataMiningProject/data/6_cho_iyer/'\n",
    "iyer_filename = 'iyer.txt'\n",
    "\n",
    "iyer_data = np.genfromtxt(iyer_datapath+iyer_filename)\n",
    "iyer_X = iyer_data [:,2:]\n",
    "iyer_y = iyer_data[:,1]\n",
    "iyer_Xtrain, iyer_Xtest, iyer_ytrain, iyer_ytest = model_selection.train_test_split(iyer_X, iyer_y, train_size=0.80, test_size=0.20, random_state=101)\n"
   ]
  },
  {
   "cell_type": "code",
   "execution_count": 4,
   "metadata": {},
   "outputs": [],
   "source": [
    "# Cho data import\n",
    "cho_datapath = '/mnt/c/Users/isaac/Desktop/CSE447/final_project/DataMiningProject/data/6_cho_iyer/'\n",
    "cho_filename = 'cho.txt'\n",
    "\n",
    "cho_data = np.genfromtxt(cho_datapath+cho_filename)\n",
    "cho_X = cho_data [:,2:]\n",
    "cho_y = cho_data[:,1]\n",
    "cho_Xtrain, cho_Xtest, cho_ytrain, cho_ytest = model_selection.train_test_split(cho_X, cho_y, train_size=0.80, test_size=0.20, random_state=101)"
   ]
  },
  {
   "cell_type": "code",
   "execution_count": null,
   "metadata": {},
   "outputs": [],
   "source": [
    "# svm hyperparameters: \n",
    "#   gamma degree #slack variabls"
   ]
  },
  {
   "cell_type": "code",
   "execution_count": 25,
   "metadata": {},
   "outputs": [],
   "source": [
    "PIE_train_filename = PIE_train_filenames[0]\n",
    "PIE_train_data = np.genfromtxt(PIE_datapath+PIE_train_filename,delimiter=' ')\n",
    "PIE_Xtrain = PIE_train_data[:,0:1024]\n",
    "PIE_ytrain = PIE_train_data[:,1024]\n",
    "\n",
    "PIE_test_filename = PIE_test_filenames[0]\n",
    "PIE_test_data = np.genfromtxt(PIE_datapath+PIE_test_filename,delimiter=' ')\n",
    "PIE_Xtest = PIE_test_data[:,0:1024]\n",
    "PIE_ytest = PIE_test_data[:,1024]\n",
    "\n",
    "# listofvectors = []\n",
    "# listofimages = []\n",
    "# arrayoflabels = np.zeros((train_datain.shape[0]))\n",
    "# for row in range(train_datain.shape[0]):\n",
    "#     # print(row)\n",
    "#     currimage = train_datain[row,0:1024]\n",
    "#     currlabel = train_datain[row,1024]\n",
    "#     # currreshaped = np.reshape(currimage,(32,32))\n",
    "#     # listofimages.append(currreshaped)\n",
    "#     listofvectors.append(currimage)\n",
    "#     arrayoflabels[row] = currlabel"
   ]
  },
  {
   "cell_type": "code",
   "execution_count": 26,
   "metadata": {},
   "outputs": [],
   "source": [
    "PIE_rbf = svm.SVC(kernel='rbf', gamma=0.5, C=0.1).fit(PIE_Xtrain, PIE_ytrain)\n",
    "PIE_poly = svm.SVC(kernel='poly', degree=3, C=1).fit(PIE_Xtrain, PIE_ytrain)"
   ]
  },
  {
   "cell_type": "code",
   "execution_count": 40,
   "metadata": {},
   "outputs": [
    {
     "output_type": "execute_result",
     "data": {
      "text/plain": [
       "{'C': 0.1,\n",
       " 'break_ties': False,\n",
       " 'cache_size': 200,\n",
       " 'class_weight': None,\n",
       " 'coef0': 0.0,\n",
       " 'decision_function_shape': 'ovr',\n",
       " 'degree': 3,\n",
       " 'gamma': 0.5,\n",
       " 'kernel': 'rbf',\n",
       " 'max_iter': -1,\n",
       " 'probability': False,\n",
       " 'random_state': None,\n",
       " 'shrinking': True,\n",
       " 'tol': 0.001,\n",
       " 'verbose': False}"
      ]
     },
     "metadata": {},
     "execution_count": 40
    }
   ],
   "source": [
    "PIE_rbf.get_params()"
   ]
  },
  {
   "cell_type": "code",
   "execution_count": 28,
   "metadata": {},
   "outputs": [],
   "source": [
    "PIE_poly_pred = PIE_poly.predict(PIE_Xtest)\n",
    "PIE_rbf_pred = PIE_rbf.predict(PIE_Xtest)"
   ]
  },
  {
   "cell_type": "code",
   "execution_count": 30,
   "metadata": {},
   "outputs": [
    {
     "output_type": "stream",
     "name": "stdout",
     "text": [
      "Accuracy (Polynomial Kernel):  27.53\nF1 (Polynomial Kernel):  31.60\nAccuracy (RBF Kernel):  25.54\nF1 (RBF Kernel):  31.02\n"
     ]
    }
   ],
   "source": [
    "PIE_poly_accuracy = accuracy_score(PIE_ytest, PIE_poly_pred)\n",
    "PIE_poly_f1 = f1_score(PIE_ytest, PIE_poly_pred, average='weighted')\n",
    "print('Accuracy (Polynomial Kernel): ', \"%.2f\" % (PIE_poly_accuracy*100))\n",
    "print('F1 (Polynomial Kernel): ', \"%.2f\" % (PIE_poly_f1*100))\n",
    "\n",
    "PIE_rbf_accuracy = accuracy_score(PIE_ytest, PIE_rbf_pred)\n",
    "PIE_rbf_f1 = f1_score(PIE_ytest, PIE_rbf_pred, average='weighted')\n",
    "print('Accuracy (RBF Kernel): ', \"%.2f\" % (PIE_rbf_accuracy*100))\n",
    "print('F1 (RBF Kernel): ', \"%.2f\" % (PIE_rbf_f1*100))"
   ]
  },
  {
   "cell_type": "code",
   "execution_count": 31,
   "metadata": {},
   "outputs": [],
   "source": [
    "cho_rbf = svm.SVC(kernel='rbf', gamma=0.5, C=0.1).fit(cho_Xtrain, cho_ytrain)\n",
    "cho_poly = svm.SVC(kernel='poly', degree=3, C=1).fit(cho_Xtrain, cho_ytrain)"
   ]
  },
  {
   "cell_type": "code",
   "execution_count": 32,
   "metadata": {},
   "outputs": [],
   "source": [
    "cho_poly_pred = cho_poly.predict(cho_Xtest)\n",
    "cho_rbf_pred = cho_rbf.predict(cho_Xtest)"
   ]
  },
  {
   "cell_type": "code",
   "execution_count": 33,
   "metadata": {},
   "outputs": [
    {
     "output_type": "stream",
     "name": "stdout",
     "text": [
      "Accuracy (Polynomial Kernel):  66.67\nF1 (Polynomial Kernel):  64.32\nAccuracy (RBF Kernel):  38.46\nF1 (RBF Kernel):  24.21\n"
     ]
    }
   ],
   "source": [
    "cho_poly_accuracy = accuracy_score(cho_ytest, cho_poly_pred)\n",
    "cho_poly_f1 = f1_score(cho_ytest, cho_poly_pred, average='weighted')\n",
    "print('Accuracy (Polynomial Kernel): ', \"%.2f\" % (cho_poly_accuracy*100))\n",
    "print('F1 (Polynomial Kernel): ', \"%.2f\" % (cho_poly_f1*100))\n",
    "\n",
    "cho_rbf_accuracy = accuracy_score(cho_ytest, cho_rbf_pred)\n",
    "cho_rbf_f1 = f1_score(cho_ytest, cho_rbf_pred, average='weighted')\n",
    "print('Accuracy (RBF Kernel): ', \"%.2f\" % (cho_rbf_accuracy*100))\n",
    "print('F1 (RBF Kernel): ', \"%.2f\" % (cho_rbf_f1*100))"
   ]
  },
  {
   "cell_type": "code",
   "execution_count": 34,
   "metadata": {},
   "outputs": [],
   "source": [
    "iyer_rbf = svm.SVC(kernel='rbf', gamma=0.5, C=0.1).fit(iyer_Xtrain, iyer_ytrain)\n",
    "iyer_poly = svm.SVC(kernel='poly', degree=3, C=1).fit(iyer_Xtrain, iyer_ytrain)"
   ]
  },
  {
   "cell_type": "code",
   "execution_count": 37,
   "metadata": {},
   "outputs": [],
   "source": [
    "iyer_poly_pred = iyer_poly.predict(iyer_Xtest)\n",
    "iyer_rbf_pred = iyer_rbf.predict(iyer_Xtest)"
   ]
  },
  {
   "cell_type": "code",
   "execution_count": 38,
   "metadata": {},
   "outputs": [
    {
     "output_type": "stream",
     "name": "stdout",
     "text": [
      "Accuracy (Polynomial Kernel):  56.73\nF1 (Polynomial Kernel):  49.95\nAccuracy (RBF Kernel):  56.73\nF1 (RBF Kernel):  46.24\n"
     ]
    }
   ],
   "source": [
    "iyer_poly_accuracy = accuracy_score(iyer_ytest, iyer_poly_pred)\n",
    "iyer_poly_f1 = f1_score(iyer_ytest, iyer_poly_pred, average='weighted')\n",
    "print('Accuracy (Polynomial Kernel): ', \"%.2f\" % (iyer_poly_accuracy*100))\n",
    "print('F1 (Polynomial Kernel): ', \"%.2f\" % (iyer_poly_f1*100))\n",
    "\n",
    "iyer_rbf_accuracy = accuracy_score(iyer_ytest, iyer_rbf_pred)\n",
    "iyer_rbf_f1 = f1_score(iyer_ytest, iyer_rbf_pred, average='weighted')\n",
    "print('Accuracy (RBF Kernel): ', \"%.2f\" % (iyer_rbf_accuracy*100))\n",
    "print('F1 (RBF Kernel): ', \"%.2f\" % (iyer_rbf_f1*100))"
   ]
  },
  {
   "cell_type": "code",
   "execution_count": null,
   "metadata": {},
   "outputs": [],
   "source": [
    "# don't use spatial data, keep it as is"
   ]
  },
  {
   "cell_type": "code",
   "execution_count": 38,
   "metadata": {},
   "outputs": [
    {
     "output_type": "stream",
     "name": "stdout",
     "text": [
      "[ 1.  2.  3.  4.  5.  6.  7.  8.  9. 10. 11. 12. 13. 14. 15. 16. 17. 18.\n 19. 20. 21. 22. 23. 24. 25. 26. 27. 28. 29. 30. 31. 32. 33. 34. 35. 36.\n 37. 38. 39. 40. 41. 42. 43. 44. 45. 46. 47. 48. 49. 50. 51. 52. 53. 54.\n 55. 56. 57. 58. 59. 60. 61.]\n[17 17 17 17 17 17 17 17 17 17 17 17 17 17 17 17 17 17 17 17 17 17 17 17\n 17 17 17 17 17 17 17 17 17 17 17 17 17 16 17 17 17 17 17 17 17 17 17 17\n 17 17 17 17 17 17 17 17 17 17 17 17  6]\n"
     ]
    }
   ],
   "source": [
    "uniquelabels, labelcount  = np.unique(arrayoflabels,return_counts=True)\n",
    "print(uniquelabels)\n",
    "print(labelcount)"
   ]
  },
  {
   "cell_type": "code",
   "execution_count": 16,
   "metadata": {},
   "outputs": [
    {
     "output_type": "execute_result",
     "data": {
      "text/plain": [
       "(array([306, 307, 308, 309, 310, 311, 312, 313, 314, 315, 316, 317, 318,\n",
       "        319, 320, 321, 322, 323, 324, 325, 326, 327, 328, 329, 330, 331,\n",
       "        332, 333, 334, 335, 336, 337, 338, 339, 340, 341, 342, 343, 344,\n",
       "        345, 346, 347, 348, 349, 350, 351, 352, 353, 354, 355, 356, 357,\n",
       "        358, 359, 360, 361, 362, 363, 364, 365, 366, 367, 368, 369, 370,\n",
       "        371, 372, 373, 374, 375, 376, 377, 378, 379, 380, 381, 382, 383,\n",
       "        384, 385, 386, 387, 388, 389, 390, 391, 392, 393, 394, 395, 396,\n",
       "        397, 398, 399, 400, 401, 402, 403, 404, 405, 406, 407, 408, 409,\n",
       "        410, 411, 412, 413, 414, 415, 416, 417, 418, 419, 420, 421, 422,\n",
       "        423, 424, 425, 426, 427, 428, 429, 430, 431, 432, 433, 434, 435,\n",
       "        436, 437, 438, 439, 440, 441, 442, 443, 444, 445, 446, 447, 448,\n",
       "        449, 450, 451, 452, 453, 454, 455, 456, 457, 458]),)"
      ]
     },
     "metadata": {},
     "execution_count": 16
    }
   ],
   "source": [
    "\n",
    "np.where(arrayoflabels==3)"
   ]
  },
  {
   "cell_type": "code",
   "execution_count": 36,
   "metadata": {},
   "outputs": [
    {
     "output_type": "execute_result",
     "data": {
      "text/plain": [
       "<matplotlib.image.AxesImage at 0x7fc626412700>"
      ]
     },
     "metadata": {},
     "execution_count": 36
    },
    {
     "output_type": "display_data",
     "data": {
      "text/plain": "<Figure size 432x288 with 1 Axes>",
      "image/svg+xml": "<?xml version=\"1.0\" encoding=\"utf-8\" standalone=\"no\"?>\n<!DOCTYPE svg PUBLIC \"-//W3C//DTD SVG 1.1//EN\"\n  \"http://www.w3.org/Graphics/SVG/1.1/DTD/svg11.dtd\">\n<!-- Created with matplotlib (https://matplotlib.org/) -->\n<svg height=\"248.919844pt\" version=\"1.1\" viewBox=\"0 0 251.565 248.919844\" width=\"251.565pt\" xmlns=\"http://www.w3.org/2000/svg\" xmlns:xlink=\"http://www.w3.org/1999/xlink\">\n <metadata>\n  <rdf:RDF xmlns:cc=\"http://creativecommons.org/ns#\" xmlns:dc=\"http://purl.org/dc/elements/1.1/\" xmlns:rdf=\"http://www.w3.org/1999/02/22-rdf-syntax-ns#\">\n   <cc:Work>\n    <dc:type rdf:resource=\"http://purl.org/dc/dcmitype/StillImage\"/>\n    <dc:date>2021-04-28T01:08:23.787696</dc:date>\n    <dc:format>image/svg+xml</dc:format>\n    <dc:creator>\n     <cc:Agent>\n      <dc:title>Matplotlib v3.3.2, https://matplotlib.org/</dc:title>\n     </cc:Agent>\n    </dc:creator>\n   </cc:Work>\n  </rdf:RDF>\n </metadata>\n <defs>\n  <style type=\"text/css\">*{stroke-linecap:butt;stroke-linejoin:round;}</style>\n </defs>\n <g id=\"figure_1\">\n  <g id=\"patch_1\">\n   <path d=\"M 0 248.919844 \nL 251.565 248.919844 \nL 251.565 0 \nL 0 0 \nz\n\" style=\"fill:none;\"/>\n  </g>\n  <g id=\"axes_1\">\n   <g id=\"patch_2\">\n    <path d=\"M 26.925 225.041719 \nL 244.365 225.041719 \nL 244.365 7.601719 \nL 26.925 7.601719 \nz\n\" style=\"fill:#ffffff;\"/>\n   </g>\n   <g clip-path=\"url(#p5ce1dd9d91)\">\n    <image height=\"218\" id=\"image6cb731f207\" transform=\"scale(1 -1)translate(0 -218)\" width=\"218\" x=\"26.925\" xlink:href=\"data:image/png;base64,\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\" y=\"-7.041719\"/>\n   </g>\n   <g id=\"matplotlib.axis_1\">\n    <g id=\"xtick_1\">\n     <g id=\"line2d_1\">\n      <defs>\n       <path d=\"M 0 0 \nL 0 3.5 \n\" id=\"m3f5d86070c\" style=\"stroke:#000000;stroke-width:0.8;\"/>\n      </defs>\n      <g>\n       <use style=\"stroke:#000000;stroke-width:0.8;\" x=\"30.3225\" xlink:href=\"#m3f5d86070c\" y=\"225.041719\"/>\n      </g>\n     </g>\n     <g id=\"text_1\">\n      <!-- 0 -->\n      <g transform=\"translate(27.14125 239.640156)scale(0.1 -0.1)\">\n       <defs>\n        <path d=\"M 31.78125 66.40625 \nQ 24.171875 66.40625 20.328125 58.90625 \nQ 16.5 51.421875 16.5 36.375 \nQ 16.5 21.390625 20.328125 13.890625 \nQ 24.171875 6.390625 31.78125 6.390625 \nQ 39.453125 6.390625 43.28125 13.890625 \nQ 47.125 21.390625 47.125 36.375 \nQ 47.125 51.421875 43.28125 58.90625 \nQ 39.453125 66.40625 31.78125 66.40625 \nz\nM 31.78125 74.21875 \nQ 44.046875 74.21875 50.515625 64.515625 \nQ 56.984375 54.828125 56.984375 36.375 \nQ 56.984375 17.96875 50.515625 8.265625 \nQ 44.046875 -1.421875 31.78125 -1.421875 \nQ 19.53125 -1.421875 13.0625 8.265625 \nQ 6.59375 17.96875 6.59375 36.375 \nQ 6.59375 54.828125 13.0625 64.515625 \nQ 19.53125 74.21875 31.78125 74.21875 \nz\n\" id=\"DejaVuSans-48\"/>\n       </defs>\n       <use xlink:href=\"#DejaVuSans-48\"/>\n      </g>\n     </g>\n    </g>\n    <g id=\"xtick_2\">\n     <g id=\"line2d_2\">\n      <g>\n       <use style=\"stroke:#000000;stroke-width:0.8;\" x=\"64.2975\" xlink:href=\"#m3f5d86070c\" y=\"225.041719\"/>\n      </g>\n     </g>\n     <g id=\"text_2\">\n      <!-- 5 -->\n      <g transform=\"translate(61.11625 239.640156)scale(0.1 -0.1)\">\n       <defs>\n        <path d=\"M 10.796875 72.90625 \nL 49.515625 72.90625 \nL 49.515625 64.59375 \nL 19.828125 64.59375 \nL 19.828125 46.734375 \nQ 21.96875 47.46875 24.109375 47.828125 \nQ 26.265625 48.1875 28.421875 48.1875 \nQ 40.625 48.1875 47.75 41.5 \nQ 54.890625 34.8125 54.890625 23.390625 \nQ 54.890625 11.625 47.5625 5.09375 \nQ 40.234375 -1.421875 26.90625 -1.421875 \nQ 22.3125 -1.421875 17.546875 -0.640625 \nQ 12.796875 0.140625 7.71875 1.703125 \nL 7.71875 11.625 \nQ 12.109375 9.234375 16.796875 8.0625 \nQ 21.484375 6.890625 26.703125 6.890625 \nQ 35.15625 6.890625 40.078125 11.328125 \nQ 45.015625 15.765625 45.015625 23.390625 \nQ 45.015625 31 40.078125 35.4375 \nQ 35.15625 39.890625 26.703125 39.890625 \nQ 22.75 39.890625 18.8125 39.015625 \nQ 14.890625 38.140625 10.796875 36.28125 \nz\n\" id=\"DejaVuSans-53\"/>\n       </defs>\n       <use xlink:href=\"#DejaVuSans-53\"/>\n      </g>\n     </g>\n    </g>\n    <g id=\"xtick_3\">\n     <g id=\"line2d_3\">\n      <g>\n       <use style=\"stroke:#000000;stroke-width:0.8;\" x=\"98.2725\" xlink:href=\"#m3f5d86070c\" y=\"225.041719\"/>\n      </g>\n     </g>\n     <g id=\"text_3\">\n      <!-- 10 -->\n      <g transform=\"translate(91.91 239.640156)scale(0.1 -0.1)\">\n       <defs>\n        <path d=\"M 12.40625 8.296875 \nL 28.515625 8.296875 \nL 28.515625 63.921875 \nL 10.984375 60.40625 \nL 10.984375 69.390625 \nL 28.421875 72.90625 \nL 38.28125 72.90625 \nL 38.28125 8.296875 \nL 54.390625 8.296875 \nL 54.390625 0 \nL 12.40625 0 \nz\n\" id=\"DejaVuSans-49\"/>\n       </defs>\n       <use xlink:href=\"#DejaVuSans-49\"/>\n       <use x=\"63.623047\" xlink:href=\"#DejaVuSans-48\"/>\n      </g>\n     </g>\n    </g>\n    <g id=\"xtick_4\">\n     <g id=\"line2d_4\">\n      <g>\n       <use style=\"stroke:#000000;stroke-width:0.8;\" x=\"132.2475\" xlink:href=\"#m3f5d86070c\" y=\"225.041719\"/>\n      </g>\n     </g>\n     <g id=\"text_4\">\n      <!-- 15 -->\n      <g transform=\"translate(125.885 239.640156)scale(0.1 -0.1)\">\n       <use xlink:href=\"#DejaVuSans-49\"/>\n       <use x=\"63.623047\" xlink:href=\"#DejaVuSans-53\"/>\n      </g>\n     </g>\n    </g>\n    <g id=\"xtick_5\">\n     <g id=\"line2d_5\">\n      <g>\n       <use style=\"stroke:#000000;stroke-width:0.8;\" x=\"166.2225\" xlink:href=\"#m3f5d86070c\" y=\"225.041719\"/>\n      </g>\n     </g>\n     <g id=\"text_5\">\n      <!-- 20 -->\n      <g transform=\"translate(159.86 239.640156)scale(0.1 -0.1)\">\n       <defs>\n        <path d=\"M 19.1875 8.296875 \nL 53.609375 8.296875 \nL 53.609375 0 \nL 7.328125 0 \nL 7.328125 8.296875 \nQ 12.9375 14.109375 22.625 23.890625 \nQ 32.328125 33.6875 34.8125 36.53125 \nQ 39.546875 41.84375 41.421875 45.53125 \nQ 43.3125 49.21875 43.3125 52.78125 \nQ 43.3125 58.59375 39.234375 62.25 \nQ 35.15625 65.921875 28.609375 65.921875 \nQ 23.96875 65.921875 18.8125 64.3125 \nQ 13.671875 62.703125 7.8125 59.421875 \nL 7.8125 69.390625 \nQ 13.765625 71.78125 18.9375 73 \nQ 24.125 74.21875 28.421875 74.21875 \nQ 39.75 74.21875 46.484375 68.546875 \nQ 53.21875 62.890625 53.21875 53.421875 \nQ 53.21875 48.921875 51.53125 44.890625 \nQ 49.859375 40.875 45.40625 35.40625 \nQ 44.1875 33.984375 37.640625 27.21875 \nQ 31.109375 20.453125 19.1875 8.296875 \nz\n\" id=\"DejaVuSans-50\"/>\n       </defs>\n       <use xlink:href=\"#DejaVuSans-50\"/>\n       <use x=\"63.623047\" xlink:href=\"#DejaVuSans-48\"/>\n      </g>\n     </g>\n    </g>\n    <g id=\"xtick_6\">\n     <g id=\"line2d_6\">\n      <g>\n       <use style=\"stroke:#000000;stroke-width:0.8;\" x=\"200.1975\" xlink:href=\"#m3f5d86070c\" y=\"225.041719\"/>\n      </g>\n     </g>\n     <g id=\"text_6\">\n      <!-- 25 -->\n      <g transform=\"translate(193.835 239.640156)scale(0.1 -0.1)\">\n       <use xlink:href=\"#DejaVuSans-50\"/>\n       <use x=\"63.623047\" xlink:href=\"#DejaVuSans-53\"/>\n      </g>\n     </g>\n    </g>\n    <g id=\"xtick_7\">\n     <g id=\"line2d_7\">\n      <g>\n       <use style=\"stroke:#000000;stroke-width:0.8;\" x=\"234.1725\" xlink:href=\"#m3f5d86070c\" y=\"225.041719\"/>\n      </g>\n     </g>\n     <g id=\"text_7\">\n      <!-- 30 -->\n      <g transform=\"translate(227.81 239.640156)scale(0.1 -0.1)\">\n       <defs>\n        <path d=\"M 40.578125 39.3125 \nQ 47.65625 37.796875 51.625 33 \nQ 55.609375 28.21875 55.609375 21.1875 \nQ 55.609375 10.40625 48.1875 4.484375 \nQ 40.765625 -1.421875 27.09375 -1.421875 \nQ 22.515625 -1.421875 17.65625 -0.515625 \nQ 12.796875 0.390625 7.625 2.203125 \nL 7.625 11.71875 \nQ 11.71875 9.328125 16.59375 8.109375 \nQ 21.484375 6.890625 26.8125 6.890625 \nQ 36.078125 6.890625 40.9375 10.546875 \nQ 45.796875 14.203125 45.796875 21.1875 \nQ 45.796875 27.640625 41.28125 31.265625 \nQ 36.765625 34.90625 28.71875 34.90625 \nL 20.21875 34.90625 \nL 20.21875 43.015625 \nL 29.109375 43.015625 \nQ 36.375 43.015625 40.234375 45.921875 \nQ 44.09375 48.828125 44.09375 54.296875 \nQ 44.09375 59.90625 40.109375 62.90625 \nQ 36.140625 65.921875 28.71875 65.921875 \nQ 24.65625 65.921875 20.015625 65.03125 \nQ 15.375 64.15625 9.8125 62.3125 \nL 9.8125 71.09375 \nQ 15.4375 72.65625 20.34375 73.4375 \nQ 25.25 74.21875 29.59375 74.21875 \nQ 40.828125 74.21875 47.359375 69.109375 \nQ 53.90625 64.015625 53.90625 55.328125 \nQ 53.90625 49.265625 50.4375 45.09375 \nQ 46.96875 40.921875 40.578125 39.3125 \nz\n\" id=\"DejaVuSans-51\"/>\n       </defs>\n       <use xlink:href=\"#DejaVuSans-51\"/>\n       <use x=\"63.623047\" xlink:href=\"#DejaVuSans-48\"/>\n      </g>\n     </g>\n    </g>\n   </g>\n   <g id=\"matplotlib.axis_2\">\n    <g id=\"ytick_1\">\n     <g id=\"line2d_8\">\n      <defs>\n       <path d=\"M 0 0 \nL -3.5 0 \n\" id=\"m0d8e1064a5\" style=\"stroke:#000000;stroke-width:0.8;\"/>\n      </defs>\n      <g>\n       <use style=\"stroke:#000000;stroke-width:0.8;\" x=\"26.925\" xlink:href=\"#m0d8e1064a5\" y=\"10.999219\"/>\n      </g>\n     </g>\n     <g id=\"text_8\">\n      <!-- 0 -->\n      <g transform=\"translate(13.5625 14.798437)scale(0.1 -0.1)\">\n       <use xlink:href=\"#DejaVuSans-48\"/>\n      </g>\n     </g>\n    </g>\n    <g id=\"ytick_2\">\n     <g id=\"line2d_9\">\n      <g>\n       <use style=\"stroke:#000000;stroke-width:0.8;\" x=\"26.925\" xlink:href=\"#m0d8e1064a5\" y=\"44.974219\"/>\n      </g>\n     </g>\n     <g id=\"text_9\">\n      <!-- 5 -->\n      <g transform=\"translate(13.5625 48.773437)scale(0.1 -0.1)\">\n       <use xlink:href=\"#DejaVuSans-53\"/>\n      </g>\n     </g>\n    </g>\n    <g id=\"ytick_3\">\n     <g id=\"line2d_10\">\n      <g>\n       <use style=\"stroke:#000000;stroke-width:0.8;\" x=\"26.925\" xlink:href=\"#m0d8e1064a5\" y=\"78.949219\"/>\n      </g>\n     </g>\n     <g id=\"text_10\">\n      <!-- 10 -->\n      <g transform=\"translate(7.2 82.748437)scale(0.1 -0.1)\">\n       <use xlink:href=\"#DejaVuSans-49\"/>\n       <use x=\"63.623047\" xlink:href=\"#DejaVuSans-48\"/>\n      </g>\n     </g>\n    </g>\n    <g id=\"ytick_4\">\n     <g id=\"line2d_11\">\n      <g>\n       <use style=\"stroke:#000000;stroke-width:0.8;\" x=\"26.925\" xlink:href=\"#m0d8e1064a5\" y=\"112.924219\"/>\n      </g>\n     </g>\n     <g id=\"text_11\">\n      <!-- 15 -->\n      <g transform=\"translate(7.2 116.723437)scale(0.1 -0.1)\">\n       <use xlink:href=\"#DejaVuSans-49\"/>\n       <use x=\"63.623047\" xlink:href=\"#DejaVuSans-53\"/>\n      </g>\n     </g>\n    </g>\n    <g id=\"ytick_5\">\n     <g id=\"line2d_12\">\n      <g>\n       <use style=\"stroke:#000000;stroke-width:0.8;\" x=\"26.925\" xlink:href=\"#m0d8e1064a5\" y=\"146.899219\"/>\n      </g>\n     </g>\n     <g id=\"text_12\">\n      <!-- 20 -->\n      <g transform=\"translate(7.2 150.698437)scale(0.1 -0.1)\">\n       <use xlink:href=\"#DejaVuSans-50\"/>\n       <use x=\"63.623047\" xlink:href=\"#DejaVuSans-48\"/>\n      </g>\n     </g>\n    </g>\n    <g id=\"ytick_6\">\n     <g id=\"line2d_13\">\n      <g>\n       <use style=\"stroke:#000000;stroke-width:0.8;\" x=\"26.925\" xlink:href=\"#m0d8e1064a5\" y=\"180.874219\"/>\n      </g>\n     </g>\n     <g id=\"text_13\">\n      <!-- 25 -->\n      <g transform=\"translate(7.2 184.673437)scale(0.1 -0.1)\">\n       <use xlink:href=\"#DejaVuSans-50\"/>\n       <use x=\"63.623047\" xlink:href=\"#DejaVuSans-53\"/>\n      </g>\n     </g>\n    </g>\n    <g id=\"ytick_7\">\n     <g id=\"line2d_14\">\n      <g>\n       <use style=\"stroke:#000000;stroke-width:0.8;\" x=\"26.925\" xlink:href=\"#m0d8e1064a5\" y=\"214.849219\"/>\n      </g>\n     </g>\n     <g id=\"text_14\">\n      <!-- 30 -->\n      <g transform=\"translate(7.2 218.648437)scale(0.1 -0.1)\">\n       <use xlink:href=\"#DejaVuSans-51\"/>\n       <use x=\"63.623047\" xlink:href=\"#DejaVuSans-48\"/>\n      </g>\n     </g>\n    </g>\n   </g>\n   <g id=\"patch_3\">\n    <path d=\"M 26.925 225.041719 \nL 26.925 7.601719 \n\" style=\"fill:none;stroke:#000000;stroke-linecap:square;stroke-linejoin:miter;stroke-width:0.8;\"/>\n   </g>\n   <g id=\"patch_4\">\n    <path d=\"M 244.365 225.041719 \nL 244.365 7.601719 \n\" style=\"fill:none;stroke:#000000;stroke-linecap:square;stroke-linejoin:miter;stroke-width:0.8;\"/>\n   </g>\n   <g id=\"patch_5\">\n    <path d=\"M 26.925 225.041719 \nL 244.365 225.041719 \n\" style=\"fill:none;stroke:#000000;stroke-linecap:square;stroke-linejoin:miter;stroke-width:0.8;\"/>\n   </g>\n   <g id=\"patch_6\">\n    <path d=\"M 26.925 7.601719 \nL 244.365 7.601719 \n\" style=\"fill:none;stroke:#000000;stroke-linecap:square;stroke-linejoin:miter;stroke-width:0.8;\"/>\n   </g>\n  </g>\n </g>\n <defs>\n  <clipPath id=\"p5ce1dd9d91\">\n   <rect height=\"217.44\" width=\"217.44\" x=\"26.925\" y=\"7.601719\"/>\n  </clipPath>\n </defs>\n</svg>\n",
      "image/png": "[encoded data removed]"
     },
     "metadata": {
      "needs_background": "light"
     }
    }
   ],
   "source": [
    "plt.imshow(listofimages[350],cmap='gist_gray')"
   ]
  },
  {
   "cell_type": "code",
   "execution_count": 38,
   "metadata": {},
   "outputs": [],
   "source": [
    "from sklearn import svm, datasets\n",
    "import sklearn.model_selection as model_selection\n",
    "from sklearn.metrics import accuracy_score\n",
    "from sklearn.metrics import f1_score\n"
   ]
  },
  {
   "cell_type": "code",
   "execution_count": 46,
   "metadata": {},
   "outputs": [],
   "source": [
    "iris = datasets.load_iris()"
   ]
  },
  {
   "cell_type": "code",
   "execution_count": 41,
   "metadata": {},
   "outputs": [],
   "source": [
    "X = iris.data[:, :2]\n",
    "y = iris.target\n",
    "X_train, X_test, y_train, y_test = model_selection.train_test_split(X, y, train_size=0.80, test_size=0.20, random_state=101)"
   ]
  },
  {
   "cell_type": "code",
   "execution_count": 54,
   "metadata": {},
   "outputs": [
    {
     "output_type": "execute_result",
     "data": {
      "text/plain": [
       "array([6.5, 3. ])"
      ]
     },
     "metadata": {},
     "execution_count": 54
    }
   ],
   "source": [
    "X_train[0]"
   ]
  },
  {
   "cell_type": "code",
   "execution_count": 42,
   "metadata": {},
   "outputs": [],
   "source": [
    "rbf = svm.SVC(kernel='rbf', gamma=0.5, C=0.1).fit(X_train, y_train)\n",
    "poly = svm.SVC(kernel='poly', degree=3, C=1).fit(X_train, y_train)"
   ]
  },
  {
   "cell_type": "code",
   "execution_count": 43,
   "metadata": {},
   "outputs": [],
   "source": [
    "poly_pred = poly.predict(X_test)\n",
    "rbf_pred = rbf.predict(X_test)"
   ]
  },
  {
   "cell_type": "code",
   "execution_count": 44,
   "metadata": {},
   "outputs": [
    {
     "output_type": "stream",
     "name": "stdout",
     "text": [
      "Accuracy (Polynomial Kernel):  70.00\nF1 (Polynomial Kernel):  69.67\n"
     ]
    }
   ],
   "source": [
    "poly_accuracy = accuracy_score(y_test, poly_pred)\n",
    "poly_f1 = f1_score(y_test, poly_pred, average='weighted')\n",
    "print('Accuracy (Polynomial Kernel): ', \"%.2f\" % (poly_accuracy*100))\n",
    "print('F1 (Polynomial Kernel): ', \"%.2f\" % (poly_f1*100))"
   ]
  },
  {
   "cell_type": "code",
   "execution_count": 45,
   "metadata": {},
   "outputs": [
    {
     "output_type": "stream",
     "name": "stdout",
     "text": [
      "Accuracy (RBF Kernel):  76.67\nF1 (RBF Kernel):  76.36\n"
     ]
    }
   ],
   "source": [
    "rbf_accuracy = accuracy_score(y_test, rbf_pred)\n",
    "rbf_f1 = f1_score(y_test, rbf_pred, average='weighted')\n",
    "print('Accuracy (RBF Kernel): ', \"%.2f\" % (rbf_accuracy*100))\n",
    "print('F1 (RBF Kernel): ', \"%.2f\" % (rbf_f1*100))"
   ]
  },
  {
   "cell_type": "code",
   "execution_count": null,
   "metadata": {},
   "outputs": [],
   "source": [
    "# make a kernel function\n",
    "# consider the tolerance (via slack variables) of linear non-separable cases\n",
    "# want to get a w vector and a b vector"
   ]
  },
  {
   "cell_type": "code",
   "execution_count": 13,
   "metadata": {},
   "outputs": [
    {
     "output_type": "execute_result",
     "data": {
      "text/plain": [
       "<matplotlib.image.AxesImage at 0x7fc6a7b0ed90>"
      ]
     },
     "metadata": {},
     "execution_count": 13
    },
    {
     "output_type": "display_data",
     "data": {
      "text/plain": "<Figure size 432x288 with 1 Axes>",
      "image/svg+xml": "<?xml version=\"1.0\" encoding=\"utf-8\" standalone=\"no\"?>\n<!DOCTYPE svg PUBLIC \"-//W3C//DTD SVG 1.1//EN\"\n  \"http://www.w3.org/Graphics/SVG/1.1/DTD/svg11.dtd\">\n<!-- Created with matplotlib (https://matplotlib.org/) -->\n<svg height=\"248.919844pt\" version=\"1.1\" viewBox=\"0 0 251.565 248.919844\" width=\"251.565pt\" xmlns=\"http://www.w3.org/2000/svg\" xmlns:xlink=\"http://www.w3.org/1999/xlink\">\n <metadata>\n  <rdf:RDF xmlns:cc=\"http://creativecommons.org/ns#\" xmlns:dc=\"http://purl.org/dc/elements/1.1/\" xmlns:rdf=\"http://www.w3.org/1999/02/22-rdf-syntax-ns#\">\n   <cc:Work>\n    <dc:type rdf:resource=\"http://purl.org/dc/dcmitype/StillImage\"/>\n    <dc:date>2021-04-28T01:04:02.452888</dc:date>\n    <dc:format>image/svg+xml</dc:format>\n    <dc:creator>\n     <cc:Agent>\n      <dc:title>Matplotlib v3.3.2, https://matplotlib.org/</dc:title>\n     </cc:Agent>\n    </dc:creator>\n   </cc:Work>\n  </rdf:RDF>\n </metadata>\n <defs>\n  <style type=\"text/css\">*{stroke-linecap:butt;stroke-linejoin:round;}</style>\n </defs>\n <g id=\"figure_1\">\n  <g id=\"patch_1\">\n   <path d=\"M 0 248.919844 \nL 251.565 248.919844 \nL 251.565 0 \nL 0 0 \nz\n\" style=\"fill:none;\"/>\n  </g>\n  <g id=\"axes_1\">\n   <g id=\"patch_2\">\n    <path d=\"M 26.925 225.041719 \nL 244.365 225.041719 \nL 244.365 7.601719 \nL 26.925 7.601719 \nz\n\" style=\"fill:#ffffff;\"/>\n   </g>\n   <g clip-path=\"url(#peaeb5210e1)\">\n    <image height=\"218\" id=\"imageb091b348eb\" transform=\"scale(1 -1)translate(0 -218)\" width=\"218\" x=\"26.925\" xlink:href=\"data:image/png;base64,\niVBORw0KGgoAAAANSUhEUgAAANoAAADaCAYAAADAHVzbAAANE0lEQVR4nO3dS49UVReH8d1yuDU0FwEF6RYaCRAxMRqi0ahTBwwcMPIL+Skc68SJA2eGkCgRYgwRVBSQVhBoRcQrF6/v2OT8H8JO9RJ9n9/wrOyqU6dqpZK111lnatmyZX+1f7E///zzrtfcd999Xa+3FOt69HzmXsMwTPw1e86/8vqS7t/AUpyMpL8z0aQCJppUwESTCphoUgETTSowNTU1Fcv7PWXTytJza5Mv7VaX/u8FS1Ee77lWtKb3GlaW/sm9cRbSf5yJJhUw0aQCJppUwESTCphoUoFhxYoVMdhTbu0tp9K6tWvXxtimTZtGj09PT8c1FKNu9R07dsTY9u3bY4zOP7l582aMnT17tmvdjRs3Ro9fvHgxrllcXOx6r0lvDdHr/Ru2VvxHkwqYaFIBE00qYKJJBUw0qcDU7OxsbCpetWpVXDg7Ozt6nKo8c3NzMbZhw4YYW716dYytX79+9Phff+VRKL/99luM9VY/Z2ZmYmz58uWjx+la/fHHHzE2NTUVY3T+6TXT+d0JXccffvghxq5evTp6nKqfly5dirHjx4/HGCmtqnetknRXTDSpgIkmFTDRpAImmlTARJMKTL344ouxDr5u3bq4cGFhYfT4zp074xoq71NzM5Xqly1bNnp88+bNcU1qrm2NPzPF7r///hhLfv/99xij0nlvo2x6P2oOJvSd0Wum74wauuk7+/XXX2Ps3XffjbEjR47E2I8//jh6vLvxOUYkTYyJJhUw0aQCJppUwESTCphoUoGBSpInT56MsS1btowep/I+lcepnP3OO+/EWCrDHjx4MK6hUjx1xt++fTvG9u/fH2OPPPLI6PEvvvgirrl27VqMfffddzH2/fffx1iPW7duxdj169djjOaypLsI6PrS97JmzZoYe+GFF2Ls8ccfj7HDhw+PHn/vvffiGp/4Kf3DTDSpgIkmFTDRpAImmlTARJMKDFQqpoE527ZtGz1OXfNU8qWy6ccffxxje/bsGT1Og17S1kRrrc3Pz8fYp59+GmNvvvlmjO3evXv0OG0zUEf6ypUrY4ykjnoawkR3TlA5m0r1PXcf0HlQ6Z+GHJHnn39+9Hj63bfW2ltvvRVj/qNJBUw0qYCJJhUw0aQCJppUwESTCgx79+6NwfPnz8dYKrfSnHwqjZ45cybGaKjPww8/PHqcOropRlsQdIfBTz/9dNfr0pCa1niWP5X+qXs/ldXpetB2DX1mKqt//fXXo8d7n5dAQ4LoeQk0HCmhp76+9NJLMeY/mlTARJMKmGhSARNNKmCiSQVMNKnAQB366bG1rbW2uLg4evzcuXNxzeeffx5jVJbetWtXjL3xxhujx2lYDpV8L1y4EGPUNU8l5lSOpy72b7/9Nsa++uqrGKNH2j700EOjx5955pm4hrYg0iNyW2vt1KlTMXb69OnR4w8++GBc8+yzz8YY3X1AdxHQI4XT0Cravtq+fXt+vRiRNDEmmlTARJMKmGhSARNNKjBQpYSaPI8ePTp6nBqRqbJITaj0ZMZUuaOG155R563l2R+t8XyVdC4///xzXEPjwr/55psYo7HrqXpLTcqEKnBU9U1NxU8++WRcMzs7G2N0Peh3QFXfrVu3jh6nz0z8R5MKmGhSARNNKmCiSQVMNKmAiSYVGA4cOBCD1KyZRnhTqZgaXqlhl0rWwzCMHqeGURqDnmaQtNbaxo0bY4yejJlmpVADNp0/NVnTeOwPP/zwrl+vd8T7lStXYixJT29tja8VzTwhVKpP3yf9Tuna+48mFTDRpAImmlTARJMKmGhSARNNKjBQ+ZZmSbz++uujx2l2Bo0Ep5J7z+hmmgtCT9qkLvxNmzbFGN0FkeZ/9HT8t8Zl9WPHjsVY2iah60HlbLr7oOf7pKe07tu3L8aoe5++M7pjJG0bpVkid3o9/9GkAiaaVMBEkwqYaFIBE00qYKJJBYZUxmyttVdffTXG0qhoGsFM5WwaBESx1IFNHf87d+6MMRoCQ9sM9MTSS5cujR6nuyPoCZdpuM2d1qWBM7SGRpPfuHEjxsgDDzwwepyuB3XG01YI3RFAW1vpjgC6O4Wulf9oUgETTSpgokkFTDSpgIkmFTDRpAIDPZmRSv+pK5o6mOnpkTT4ZmZmJsZ27NgxenzPnj1xDXVg01Ac6lY/e/ZsjKXucroehw4dirHXXnstxqgT/5dffhk9TuV9GqhE62jwTboe9HujGJ0jlffpu07XMW3VtMa/D//RpAImmlTARJMKmGhSARNNKjCcOHEiBqmZN1UdqemSxm3TPBGqSKbZFDTrgpqDadYFjaWmRt/0pFOq2r3yyisxRk201NQ9Pz8/epyefEmzV6ipeGFh4a7X0bwZqujRedBTZq9fvx5j6buh6ufNmzdjzH80qYCJJhUw0aQCJppUwESTCphoUoGBxilTg3AqqVJ5n8rj1Pw5NzcXY6l59aOPPoprLl++HGNUoqV1VGJOpWkqxVPJndaRtF2zd+/euIbK6jQjg7Yu0vnT56L3ou0OOg8q76fXpNkl1CTuP5pUwESTCphoUgETTSpgokkFTDSpwHDr1q0YTDMmWsvleCoHU+n/s88+izHqtk9bELQ1QaOn6b1oC6KnnE0lfJprQnruTDh//nxcQ3M16E4HOv+0hULvRdtQ2DUP50Gd+OlOAvqeqfTvP5pUwESTCphoUgETTSpgokkFTDSpwEDDS6hsmsqctF1ApWfqpKZ16Tywk7qzdE7leNpOSOuoVEylborROabvhrZxaCuErmPPnQl0HvR69PugEj51/adrTN8ZbtfEiKSJMdGkAiaaVMBEkwqYaFIBE00qMFBptGdADJVTqVRMs/dpXZp5f+XKlbim9zNPWu8WBD0TgZ45kD4bvVfvHQZ0jdM62iLp1XMXQWv5c9P1oO/FfzSpgIkmFTDRpAImmlTARJMKDNTMS9K8CKoQPv300zH23HPPxdipU6di7Kmnnho9/thjj8U1J0+ejLHDhw/H2OLiYozRSPDUzNszZ6S1/mplT1WP5mDQ+VMFjiqSPZaiapo+W29Duv9oUgETTSpgokkFTDSpgIkmFTDRpAIDjXWm0m6at7Bly5a45sCBAzFGJd/3338/xk6cODF6fP/+/XHNwYMHYyxtF7TW2ieffBJj165di7E0Cp2eYkmj1XufFJrmYFAjOJXwJ616RDp97qT3HP1HkwqYaFIBE00qYKJJBUw0qYCJJhXA7v3169fHWCoxb968Oa6h8ufbb78dY19++WWMvfzyy6PHqQxLr0fnuG7duhibnp6OsVSqpzkpVN6/ePFijNFTSdeuXTt6nM6d7kroLf2na0zXvveOhe5u+8518fUm+mqSRploUgETTSpgokkFTDSpgIkmFZjatm1bnKLSMxL8iSeeiGtoYM7CwkKMHT9+PMbSUyIfffTRuGbr1q0xRlsaq1evjjEqP6fR09SF39NZ3hqX4+fm5kaP050HH3zwQYzRVgJJpXMaZ75x48YYO3PmTIxVjni3e1/6h5loUgETTSpgokkFTDSpgIkmFcAacs+TMamj+/Tp0zF2+fLlGLt69WqMpbL6uXPn4pqlGAKzYcOGGFuxYsXocXriZBp+1Fr/+V+4cCHGkvn5+RijLRnaMkjnT88GoFn+dFdF7xZEQtcev5eJnoWkUSaaVMBEkwqYaFIBE00qYKJJBYY0F761vs5nmidPHek0jIa6utPzAei5AVTypW2G2dnZGFuzZk2MpW0S6rQn6Y6F1vJjfFvLJfKeR+62lrctWmttZmYmxuj8E/o+6TzorgraMpg0/9GkAiaaVMBEkwqYaFIBE00qMFDFqafq2FtJ6x0v3TNbg6peVImi0dk9508VX2oqpspiz5wX+g1QY3lP03lruRJI50GVYnqv3sripGeN+I8mFTDRpAImmlTARJMKmGhSARNNKoC18Z75CFSGXb58edd70bpUsqZyO5WR6b1oW4BeM8WoPE4lfFpHWwYp1lveJ7Sup+S+FKO9J/1UT3yvsneS/o+ZaFIBE00qYKJJBUw0qYCJJhUYJl027Z1B0jvmuqdES+9FZWkq79PMk1Q+pzI3ldzpGveU6nuvfe8dF+k16dr3PgG19zc3yTWt+Y8mlTDRpAImmlTARJMKmGhSARNNKtBXMwWTLqfeaV0aF06lYurQpzIyldXp6Z1J7/XoHYqT0DZDbwmfpHOkrYSl6N4nky79+48mFTDRpAImmlTARJMKmGhSARNNKjD0Dl+p1NOhT2V66nCnMn1vqTs9rbL3SZtURu7tck8qS+69dxEQWke//bTO7n3pHmaiSQVMNKmAiSYVMNGkAlPT09Oxo7Sn4lQ5Zpn0zhlZiubV9Jq9FcKeahm5l5p57xXpc/de+3sjK6T/OBNNKmCiSQVMNKmAiSYVMNGkAhMfCd5b3q9sUO1dN+mti+5S8YTPYylGtevvvFJSARNNKmCiSQVMNKmAiSYVMNGkAv8DsKWwsNAXRUgAAAAASUVORK5CYII=\" y=\"-7.041719\"/>\n   </g>\n   <g id=\"matplotlib.axis_1\">\n    <g id=\"xtick_1\">\n     <g id=\"line2d_1\">\n      <defs>\n       <path d=\"M 0 0 \nL 0 3.5 \n\" id=\"m9224360ee4\" style=\"stroke:#000000;stroke-width:0.8;\"/>\n      </defs>\n      <g>\n       <use style=\"stroke:#000000;stroke-width:0.8;\" x=\"30.3225\" xlink:href=\"#m9224360ee4\" y=\"225.041719\"/>\n      </g>\n     </g>\n     <g id=\"text_1\">\n      <!-- 0 -->\n      <g transform=\"translate(27.14125 239.640156)scale(0.1 -0.1)\">\n       <defs>\n        <path d=\"M 31.78125 66.40625 \nQ 24.171875 66.40625 20.328125 58.90625 \nQ 16.5 51.421875 16.5 36.375 \nQ 16.5 21.390625 20.328125 13.890625 \nQ 24.171875 6.390625 31.78125 6.390625 \nQ 39.453125 6.390625 43.28125 13.890625 \nQ 47.125 21.390625 47.125 36.375 \nQ 47.125 51.421875 43.28125 58.90625 \nQ 39.453125 66.40625 31.78125 66.40625 \nz\nM 31.78125 74.21875 \nQ 44.046875 74.21875 50.515625 64.515625 \nQ 56.984375 54.828125 56.984375 36.375 \nQ 56.984375 17.96875 50.515625 8.265625 \nQ 44.046875 -1.421875 31.78125 -1.421875 \nQ 19.53125 -1.421875 13.0625 8.265625 \nQ 6.59375 17.96875 6.59375 36.375 \nQ 6.59375 54.828125 13.0625 64.515625 \nQ 19.53125 74.21875 31.78125 74.21875 \nz\n\" id=\"DejaVuSans-48\"/>\n       </defs>\n       <use xlink:href=\"#DejaVuSans-48\"/>\n      </g>\n     </g>\n    </g>\n    <g id=\"xtick_2\">\n     <g id=\"line2d_2\">\n      <g>\n       <use style=\"stroke:#000000;stroke-width:0.8;\" x=\"64.2975\" xlink:href=\"#m9224360ee4\" y=\"225.041719\"/>\n      </g>\n     </g>\n     <g id=\"text_2\">\n      <!-- 5 -->\n      <g transform=\"translate(61.11625 239.640156)scale(0.1 -0.1)\">\n       <defs>\n        <path d=\"M 10.796875 72.90625 \nL 49.515625 72.90625 \nL 49.515625 64.59375 \nL 19.828125 64.59375 \nL 19.828125 46.734375 \nQ 21.96875 47.46875 24.109375 47.828125 \nQ 26.265625 48.1875 28.421875 48.1875 \nQ 40.625 48.1875 47.75 41.5 \nQ 54.890625 34.8125 54.890625 23.390625 \nQ 54.890625 11.625 47.5625 5.09375 \nQ 40.234375 -1.421875 26.90625 -1.421875 \nQ 22.3125 -1.421875 17.546875 -0.640625 \nQ 12.796875 0.140625 7.71875 1.703125 \nL 7.71875 11.625 \nQ 12.109375 9.234375 16.796875 8.0625 \nQ 21.484375 6.890625 26.703125 6.890625 \nQ 35.15625 6.890625 40.078125 11.328125 \nQ 45.015625 15.765625 45.015625 23.390625 \nQ 45.015625 31 40.078125 35.4375 \nQ 35.15625 39.890625 26.703125 39.890625 \nQ 22.75 39.890625 18.8125 39.015625 \nQ 14.890625 38.140625 10.796875 36.28125 \nz\n\" id=\"DejaVuSans-53\"/>\n       </defs>\n       <use xlink:href=\"#DejaVuSans-53\"/>\n      </g>\n     </g>\n    </g>\n    <g id=\"xtick_3\">\n     <g id=\"line2d_3\">\n      <g>\n       <use style=\"stroke:#000000;stroke-width:0.8;\" x=\"98.2725\" xlink:href=\"#m9224360ee4\" y=\"225.041719\"/>\n      </g>\n     </g>\n     <g id=\"text_3\">\n      <!-- 10 -->\n      <g transform=\"translate(91.91 239.640156)scale(0.1 -0.1)\">\n       <defs>\n        <path d=\"M 12.40625 8.296875 \nL 28.515625 8.296875 \nL 28.515625 63.921875 \nL 10.984375 60.40625 \nL 10.984375 69.390625 \nL 28.421875 72.90625 \nL 38.28125 72.90625 \nL 38.28125 8.296875 \nL 54.390625 8.296875 \nL 54.390625 0 \nL 12.40625 0 \nz\n\" id=\"DejaVuSans-49\"/>\n       </defs>\n       <use xlink:href=\"#DejaVuSans-49\"/>\n       <use x=\"63.623047\" xlink:href=\"#DejaVuSans-48\"/>\n      </g>\n     </g>\n    </g>\n    <g id=\"xtick_4\">\n     <g id=\"line2d_4\">\n      <g>\n       <use style=\"stroke:#000000;stroke-width:0.8;\" x=\"132.2475\" xlink:href=\"#m9224360ee4\" y=\"225.041719\"/>\n      </g>\n     </g>\n     <g id=\"text_4\">\n      <!-- 15 -->\n      <g transform=\"translate(125.885 239.640156)scale(0.1 -0.1)\">\n       <use xlink:href=\"#DejaVuSans-49\"/>\n       <use x=\"63.623047\" xlink:href=\"#DejaVuSans-53\"/>\n      </g>\n     </g>\n    </g>\n    <g id=\"xtick_5\">\n     <g id=\"line2d_5\">\n      <g>\n       <use style=\"stroke:#000000;stroke-width:0.8;\" x=\"166.2225\" xlink:href=\"#m9224360ee4\" y=\"225.041719\"/>\n      </g>\n     </g>\n     <g id=\"text_5\">\n      <!-- 20 -->\n      <g transform=\"translate(159.86 239.640156)scale(0.1 -0.1)\">\n       <defs>\n        <path d=\"M 19.1875 8.296875 \nL 53.609375 8.296875 \nL 53.609375 0 \nL 7.328125 0 \nL 7.328125 8.296875 \nQ 12.9375 14.109375 22.625 23.890625 \nQ 32.328125 33.6875 34.8125 36.53125 \nQ 39.546875 41.84375 41.421875 45.53125 \nQ 43.3125 49.21875 43.3125 52.78125 \nQ 43.3125 58.59375 39.234375 62.25 \nQ 35.15625 65.921875 28.609375 65.921875 \nQ 23.96875 65.921875 18.8125 64.3125 \nQ 13.671875 62.703125 7.8125 59.421875 \nL 7.8125 69.390625 \nQ 13.765625 71.78125 18.9375 73 \nQ 24.125 74.21875 28.421875 74.21875 \nQ 39.75 74.21875 46.484375 68.546875 \nQ 53.21875 62.890625 53.21875 53.421875 \nQ 53.21875 48.921875 51.53125 44.890625 \nQ 49.859375 40.875 45.40625 35.40625 \nQ 44.1875 33.984375 37.640625 27.21875 \nQ 31.109375 20.453125 19.1875 8.296875 \nz\n\" id=\"DejaVuSans-50\"/>\n       </defs>\n       <use xlink:href=\"#DejaVuSans-50\"/>\n       <use x=\"63.623047\" xlink:href=\"#DejaVuSans-48\"/>\n      </g>\n     </g>\n    </g>\n    <g id=\"xtick_6\">\n     <g id=\"line2d_6\">\n      <g>\n       <use style=\"stroke:#000000;stroke-width:0.8;\" x=\"200.1975\" xlink:href=\"#m9224360ee4\" y=\"225.041719\"/>\n      </g>\n     </g>\n     <g id=\"text_6\">\n      <!-- 25 -->\n      <g transform=\"translate(193.835 239.640156)scale(0.1 -0.1)\">\n       <use xlink:href=\"#DejaVuSans-50\"/>\n       <use x=\"63.623047\" xlink:href=\"#DejaVuSans-53\"/>\n      </g>\n     </g>\n    </g>\n    <g id=\"xtick_7\">\n     <g id=\"line2d_7\">\n      <g>\n       <use style=\"stroke:#000000;stroke-width:0.8;\" x=\"234.1725\" xlink:href=\"#m9224360ee4\" y=\"225.041719\"/>\n      </g>\n     </g>\n     <g id=\"text_7\">\n      <!-- 30 -->\n      <g transform=\"translate(227.81 239.640156)scale(0.1 -0.1)\">\n       <defs>\n        <path d=\"M 40.578125 39.3125 \nQ 47.65625 37.796875 51.625 33 \nQ 55.609375 28.21875 55.609375 21.1875 \nQ 55.609375 10.40625 48.1875 4.484375 \nQ 40.765625 -1.421875 27.09375 -1.421875 \nQ 22.515625 -1.421875 17.65625 -0.515625 \nQ 12.796875 0.390625 7.625 2.203125 \nL 7.625 11.71875 \nQ 11.71875 9.328125 16.59375 8.109375 \nQ 21.484375 6.890625 26.8125 6.890625 \nQ 36.078125 6.890625 40.9375 10.546875 \nQ 45.796875 14.203125 45.796875 21.1875 \nQ 45.796875 27.640625 41.28125 31.265625 \nQ 36.765625 34.90625 28.71875 34.90625 \nL 20.21875 34.90625 \nL 20.21875 43.015625 \nL 29.109375 43.015625 \nQ 36.375 43.015625 40.234375 45.921875 \nQ 44.09375 48.828125 44.09375 54.296875 \nQ 44.09375 59.90625 40.109375 62.90625 \nQ 36.140625 65.921875 28.71875 65.921875 \nQ 24.65625 65.921875 20.015625 65.03125 \nQ 15.375 64.15625 9.8125 62.3125 \nL 9.8125 71.09375 \nQ 15.4375 72.65625 20.34375 73.4375 \nQ 25.25 74.21875 29.59375 74.21875 \nQ 40.828125 74.21875 47.359375 69.109375 \nQ 53.90625 64.015625 53.90625 55.328125 \nQ 53.90625 49.265625 50.4375 45.09375 \nQ 46.96875 40.921875 40.578125 39.3125 \nz\n\" id=\"DejaVuSans-51\"/>\n       </defs>\n       <use xlink:href=\"#DejaVuSans-51\"/>\n       <use x=\"63.623047\" xlink:href=\"#DejaVuSans-48\"/>\n      </g>\n     </g>\n    </g>\n   </g>\n   <g id=\"matplotlib.axis_2\">\n    <g id=\"ytick_1\">\n     <g id=\"line2d_8\">\n      <defs>\n       <path d=\"M 0 0 \nL -3.5 0 \n\" id=\"mbf0e4977e5\" style=\"stroke:#000000;stroke-width:0.8;\"/>\n      </defs>\n      <g>\n       <use style=\"stroke:#000000;stroke-width:0.8;\" x=\"26.925\" xlink:href=\"#mbf0e4977e5\" y=\"10.999219\"/>\n      </g>\n     </g>\n     <g id=\"text_8\">\n      <!-- 0 -->\n      <g transform=\"translate(13.5625 14.798437)scale(0.1 -0.1)\">\n       <use xlink:href=\"#DejaVuSans-48\"/>\n      </g>\n     </g>\n    </g>\n    <g id=\"ytick_2\">\n     <g id=\"line2d_9\">\n      <g>\n       <use style=\"stroke:#000000;stroke-width:0.8;\" x=\"26.925\" xlink:href=\"#mbf0e4977e5\" y=\"44.974219\"/>\n      </g>\n     </g>\n     <g id=\"text_9\">\n      <!-- 5 -->\n      <g transform=\"translate(13.5625 48.773437)scale(0.1 -0.1)\">\n       <use xlink:href=\"#DejaVuSans-53\"/>\n      </g>\n     </g>\n    </g>\n    <g id=\"ytick_3\">\n     <g id=\"line2d_10\">\n      <g>\n       <use style=\"stroke:#000000;stroke-width:0.8;\" x=\"26.925\" xlink:href=\"#mbf0e4977e5\" y=\"78.949219\"/>\n      </g>\n     </g>\n     <g id=\"text_10\">\n      <!-- 10 -->\n      <g transform=\"translate(7.2 82.748437)scale(0.1 -0.1)\">\n       <use xlink:href=\"#DejaVuSans-49\"/>\n       <use x=\"63.623047\" xlink:href=\"#DejaVuSans-48\"/>\n      </g>\n     </g>\n    </g>\n    <g id=\"ytick_4\">\n     <g id=\"line2d_11\">\n      <g>\n       <use style=\"stroke:#000000;stroke-width:0.8;\" x=\"26.925\" xlink:href=\"#mbf0e4977e5\" y=\"112.924219\"/>\n      </g>\n     </g>\n     <g id=\"text_11\">\n      <!-- 15 -->\n      <g transform=\"translate(7.2 116.723437)scale(0.1 -0.1)\">\n       <use xlink:href=\"#DejaVuSans-49\"/>\n       <use x=\"63.623047\" xlink:href=\"#DejaVuSans-53\"/>\n      </g>\n     </g>\n    </g>\n    <g id=\"ytick_5\">\n     <g id=\"line2d_12\">\n      <g>\n       <use style=\"stroke:#000000;stroke-width:0.8;\" x=\"26.925\" xlink:href=\"#mbf0e4977e5\" y=\"146.899219\"/>\n      </g>\n     </g>\n     <g id=\"text_12\">\n      <!-- 20 -->\n      <g transform=\"translate(7.2 150.698437)scale(0.1 -0.1)\">\n       <use xlink:href=\"#DejaVuSans-50\"/>\n       <use x=\"63.623047\" xlink:href=\"#DejaVuSans-48\"/>\n      </g>\n     </g>\n    </g>\n    <g id=\"ytick_6\">\n     <g id=\"line2d_13\">\n      <g>\n       <use style=\"stroke:#000000;stroke-width:0.8;\" x=\"26.925\" xlink:href=\"#mbf0e4977e5\" y=\"180.874219\"/>\n      </g>\n     </g>\n     <g id=\"text_13\">\n      <!-- 25 -->\n      <g transform=\"translate(7.2 184.673437)scale(0.1 -0.1)\">\n       <use xlink:href=\"#DejaVuSans-50\"/>\n       <use x=\"63.623047\" xlink:href=\"#DejaVuSans-53\"/>\n      </g>\n     </g>\n    </g>\n    <g id=\"ytick_7\">\n     <g id=\"line2d_14\">\n      <g>\n       <use style=\"stroke:#000000;stroke-width:0.8;\" x=\"26.925\" xlink:href=\"#mbf0e4977e5\" y=\"214.849219\"/>\n      </g>\n     </g>\n     <g id=\"text_14\">\n      <!-- 30 -->\n      <g transform=\"translate(7.2 218.648437)scale(0.1 -0.1)\">\n       <use xlink:href=\"#DejaVuSans-51\"/>\n       <use x=\"63.623047\" xlink:href=\"#DejaVuSans-48\"/>\n      </g>\n     </g>\n    </g>\n   </g>\n   <g id=\"patch_3\">\n    <path d=\"M 26.925 225.041719 \nL 26.925 7.601719 \n\" style=\"fill:none;stroke:#000000;stroke-linecap:square;stroke-linejoin:miter;stroke-width:0.8;\"/>\n   </g>\n   <g id=\"patch_4\">\n    <path d=\"M 244.365 225.041719 \nL 244.365 7.601719 \n\" style=\"fill:none;stroke:#000000;stroke-linecap:square;stroke-linejoin:miter;stroke-width:0.8;\"/>\n   </g>\n   <g id=\"patch_5\">\n    <path d=\"M 26.925 225.041719 \nL 244.365 225.041719 \n\" style=\"fill:none;stroke:#000000;stroke-linecap:square;stroke-linejoin:miter;stroke-width:0.8;\"/>\n   </g>\n   <g id=\"patch_6\">\n    <path d=\"M 26.925 7.601719 \nL 244.365 7.601719 \n\" style=\"fill:none;stroke:#000000;stroke-linecap:square;stroke-linejoin:miter;stroke-width:0.8;\"/>\n   </g>\n  </g>\n </g>\n <defs>\n  <clipPath id=\"peaeb5210e1\">\n   <rect height=\"217.44\" width=\"217.44\" x=\"26.925\" y=\"7.601719\"/>\n  </clipPath>\n </defs>\n</svg>\n",
      "image/png": "[encoded data removed]"
     },
     "metadata": {
      "needs_background": "light"
     }
    }
   ],
   "source": [
    "plt.imshow(listofimages[0],cmap='gist_gray')"
   ]
  },
  {
   "cell_type": "code",
   "execution_count": 40,
   "metadata": {},
   "outputs": [
    {
     "output_type": "stream",
     "name": "stdout",
     "text": [
      "Collecting tensorflow\n",
      "  Downloading tensorflow-2.4.1-cp38-cp38-manylinux2010_x86_64.whl (394.4 MB)\n",
      "\u001b[K     |████████████████████████████████| 394.4 MB 276 bytes/s \n",
      "\u001b[?25hCollecting wrapt~=1.12.1\n",
      "  Downloading wrapt-1.12.1.tar.gz (27 kB)\n",
      "Collecting keras-preprocessing~=1.1.2\n",
      "  Downloading Keras_Preprocessing-1.1.2-py2.py3-none-any.whl (42 kB)\n",
      "\u001b[K     |████████████████████████████████| 42 kB 1.3 MB/s \n",
      "\u001b[?25hCollecting opt-einsum~=3.3.0\n",
      "  Downloading opt_einsum-3.3.0-py3-none-any.whl (65 kB)\n",
      "\u001b[K     |████████████████████████████████| 65 kB 4.7 MB/s \n",
      "\u001b[?25hRequirement already satisfied: typing-extensions~=3.7.4 in /home/isaac/anaconda3/lib/python3.8/site-packages (from tensorflow) (3.7.4.3)\n",
      "Collecting absl-py~=0.10\n",
      "  Downloading absl_py-0.12.0-py3-none-any.whl (129 kB)\n",
      "\u001b[K     |████████████████████████████████| 129 kB 14.5 MB/s \n",
      "\u001b[?25hCollecting gast==0.3.3\n",
      "  Downloading gast-0.3.3-py2.py3-none-any.whl (9.7 kB)\n",
      "Requirement already satisfied: wheel~=0.35 in /home/isaac/anaconda3/lib/python3.8/site-packages (from tensorflow) (0.35.1)\n",
      "Requirement already satisfied: h5py~=2.10.0 in /home/isaac/anaconda3/lib/python3.8/site-packages (from tensorflow) (2.10.0)\n",
      "Collecting grpcio~=1.32.0\n",
      "  Downloading grpcio-1.32.0-cp38-cp38-manylinux2014_x86_64.whl (3.8 MB)\n",
      "\u001b[K     |████████████████████████████████| 3.8 MB 17.7 MB/s \n",
      "\u001b[?25hCollecting tensorboard~=2.4\n",
      "  Downloading tensorboard-2.5.0-py3-none-any.whl (6.0 MB)\n",
      "\u001b[K     |████████████████████████████████| 6.0 MB 6.3 MB/s \n",
      "\u001b[?25hCollecting astunparse~=1.6.3\n",
      "  Downloading astunparse-1.6.3-py2.py3-none-any.whl (12 kB)\n",
      "Collecting tensorflow-estimator<2.5.0,>=2.4.0\n",
      "  Downloading tensorflow_estimator-2.4.0-py2.py3-none-any.whl (462 kB)\n",
      "\u001b[K     |████████████████████████████████| 462 kB 16.4 MB/s \n",
      "\u001b[?25hCollecting flatbuffers~=1.12.0\n",
      "  Downloading flatbuffers-1.12-py2.py3-none-any.whl (15 kB)\n",
      "Collecting termcolor~=1.1.0\n",
      "  Downloading termcolor-1.1.0.tar.gz (3.9 kB)\n",
      "Collecting protobuf>=3.9.2\n",
      "  Downloading protobuf-3.15.8-cp38-cp38-manylinux1_x86_64.whl (1.0 MB)\n",
      "\u001b[K     |████████████████████████████████| 1.0 MB 10.0 MB/s \n",
      "\u001b[?25hCollecting google-pasta~=0.2\n",
      "  Downloading google_pasta-0.2.0-py3-none-any.whl (57 kB)\n",
      "\u001b[K     |████████████████████████████████| 57 kB 242 kB/s \n",
      "\u001b[?25hCollecting numpy~=1.19.2\n",
      "  Downloading numpy-1.19.5-cp38-cp38-manylinux2010_x86_64.whl (14.9 MB)\n",
      "\u001b[K     |████████████████████████████████| 14.9 MB 112 kB/s \n",
      "\u001b[?25hRequirement already satisfied: six~=1.15.0 in /home/isaac/anaconda3/lib/python3.8/site-packages (from tensorflow) (1.15.0)\n",
      "Collecting google-auth<2,>=1.6.3\n",
      "  Downloading google_auth-1.29.0-py2.py3-none-any.whl (142 kB)\n",
      "\u001b[K     |████████████████████████████████| 142 kB 196 kB/s \n",
      "\u001b[?25hCollecting google-auth-oauthlib<0.5,>=0.4.1\n",
      "  Downloading google_auth_oauthlib-0.4.4-py2.py3-none-any.whl (18 kB)\n",
      "Collecting tensorboard-data-server<0.7.0,>=0.6.0\n",
      "  Downloading tensorboard_data_server-0.6.0-py3-none-manylinux2010_x86_64.whl (3.9 MB)\n",
      "\u001b[K     |████████████████████████████████| 3.9 MB 16.2 MB/s \n",
      "\u001b[?25hRequirement already satisfied: setuptools>=41.0.0 in /home/isaac/anaconda3/lib/python3.8/site-packages (from tensorboard~=2.4->tensorflow) (50.3.1.post20201107)\n",
      "Collecting tensorboard-plugin-wit>=1.6.0\n",
      "  Downloading tensorboard_plugin_wit-1.8.0-py3-none-any.whl (781 kB)\n",
      "\u001b[K     |████████████████████████████████| 781 kB 28.3 MB/s \n",
      "\u001b[?25hRequirement already satisfied: werkzeug>=0.11.15 in /home/isaac/anaconda3/lib/python3.8/site-packages (from tensorboard~=2.4->tensorflow) (1.0.1)\n",
      "Collecting markdown>=2.6.8\n",
      "  Downloading Markdown-3.3.4-py3-none-any.whl (97 kB)\n",
      "\u001b[K     |████████████████████████████████| 97 kB 8.7 MB/s \n",
      "\u001b[?25hRequirement already satisfied: requests<3,>=2.21.0 in /home/isaac/anaconda3/lib/python3.8/site-packages (from tensorboard~=2.4->tensorflow) (2.24.0)\n",
      "Collecting cachetools<5.0,>=2.0.0\n",
      "  Downloading cachetools-4.2.1-py3-none-any.whl (12 kB)\n",
      "Collecting rsa<5,>=3.1.4; python_version >= \"3.6\"\n",
      "  Downloading rsa-4.7.2-py3-none-any.whl (34 kB)\n",
      "Collecting pyasn1-modules>=0.2.1\n",
      "  Downloading pyasn1_modules-0.2.8-py2.py3-none-any.whl (155 kB)\n",
      "\u001b[K     |████████████████████████████████| 155 kB 14.0 MB/s \n",
      "\u001b[?25hCollecting requests-oauthlib>=0.7.0\n",
      "  Downloading requests_oauthlib-1.3.0-py2.py3-none-any.whl (23 kB)\n",
      "Requirement already satisfied: chardet<4,>=3.0.2 in /home/isaac/anaconda3/lib/python3.8/site-packages (from requests<3,>=2.21.0->tensorboard~=2.4->tensorflow) (3.0.4)\n",
      "Requirement already satisfied: idna<3,>=2.5 in /home/isaac/anaconda3/lib/python3.8/site-packages (from requests<3,>=2.21.0->tensorboard~=2.4->tensorflow) (2.10)\n",
      "Requirement already satisfied: certifi>=2017.4.17 in /home/isaac/anaconda3/lib/python3.8/site-packages (from requests<3,>=2.21.0->tensorboard~=2.4->tensorflow) (2020.6.20)\n",
      "Requirement already satisfied: urllib3!=1.25.0,!=1.25.1,<1.26,>=1.21.1 in /home/isaac/anaconda3/lib/python3.8/site-packages (from requests<3,>=2.21.0->tensorboard~=2.4->tensorflow) (1.25.11)\n",
      "Collecting pyasn1>=0.1.3\n",
      "  Downloading pyasn1-0.4.8-py2.py3-none-any.whl (77 kB)\n",
      "\u001b[K     |████████████████████████████████| 77 kB 7.7 MB/s \n",
      "\u001b[?25hCollecting oauthlib>=3.0.0\n",
      "  Downloading oauthlib-3.1.0-py2.py3-none-any.whl (147 kB)\n",
      "\u001b[K     |████████████████████████████████| 147 kB 25.4 MB/s \n",
      "\u001b[?25hBuilding wheels for collected packages: wrapt, termcolor\n",
      "  Building wheel for wrapt (setup.py) ... \u001b[?25ldone\n",
      "\u001b[?25h  Created wheel for wrapt: filename=wrapt-1.12.1-cp38-cp38-linux_x86_64.whl size=81769 sha256=8a45c8773701569f10ed38bba986b7688821886a6be100c0fe2126969b90fed7\n",
      "  Stored in directory: /home/isaac/.cache/pip/wheels/5f/fd/9e/b6cf5890494cb8ef0b5eaff72e5d55a70fb56316007d6dfe73\n",
      "  Building wheel for termcolor (setup.py) ... \u001b[?25ldone\n",
      "\u001b[?25h  Created wheel for termcolor: filename=termcolor-1.1.0-py3-none-any.whl size=4830 sha256=4988af9af37820bfc823b9140af165ba7f536ea8ed5138ca9fe2b630167170f2\n",
      "  Stored in directory: /home/isaac/.cache/pip/wheels/a0/16/9c/5473df82468f958445479c59e784896fa24f4a5fc024b0f501\n",
      "Successfully built wrapt termcolor\n",
      "Installing collected packages: wrapt, numpy, keras-preprocessing, opt-einsum, absl-py, gast, grpcio, cachetools, pyasn1, rsa, pyasn1-modules, google-auth, oauthlib, requests-oauthlib, google-auth-oauthlib, protobuf, tensorboard-data-server, tensorboard-plugin-wit, markdown, tensorboard, astunparse, tensorflow-estimator, flatbuffers, termcolor, google-pasta, tensorflow\n",
      "  Attempting uninstall: wrapt\n",
      "    Found existing installation: wrapt 1.11.2\n",
      "    Uninstalling wrapt-1.11.2:\n",
      "      Successfully uninstalled wrapt-1.11.2\n",
      "  Attempting uninstall: numpy\n",
      "    Found existing installation: numpy 1.20.2\n",
      "    Uninstalling numpy-1.20.2:\n",
      "      Successfully uninstalled numpy-1.20.2\n",
      "Successfully installed absl-py-0.12.0 astunparse-1.6.3 cachetools-4.2.1 flatbuffers-1.12 gast-0.3.3 google-auth-1.29.0 google-auth-oauthlib-0.4.4 google-pasta-0.2.0 grpcio-1.32.0 keras-preprocessing-1.1.2 markdown-3.3.4 numpy-1.19.5 oauthlib-3.1.0 opt-einsum-3.3.0 protobuf-3.15.8 pyasn1-0.4.8 pyasn1-modules-0.2.8 requests-oauthlib-1.3.0 rsa-4.7.2 tensorboard-2.5.0 tensorboard-data-server-0.6.0 tensorboard-plugin-wit-1.8.0 tensorflow-2.4.1 tensorflow-estimator-2.4.0 termcolor-1.1.0 wrapt-1.12.1\n"
     ]
    }
   ],
   "source": [
    "!pip install tensorflow\n",
    "# import tensorflow as tf"
   ]
  }
 ]
}